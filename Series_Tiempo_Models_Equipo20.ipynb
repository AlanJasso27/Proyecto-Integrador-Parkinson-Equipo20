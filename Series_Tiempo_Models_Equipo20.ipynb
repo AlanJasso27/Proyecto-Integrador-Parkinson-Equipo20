{
  "nbformat": 4,
  "nbformat_minor": 0,
  "metadata": {
    "colab": {
      "provenance": []
    },
    "kernelspec": {
      "name": "python3",
      "display_name": "Python 3"
    },
    "language_info": {
      "name": "python"
    }
  },
  "cells": [
    {
      "cell_type": "markdown",
      "source": [
        "**Drive de google.colab**"
      ],
      "metadata": {
        "id": "Hqg_Q_l06hvB"
      }
    },
    {
      "cell_type": "code",
      "source": [
        "# Montar Drive (si no está montado)\n",
        "from google.colab import drive\n",
        "drive.mount('/content/drive')"
      ],
      "metadata": {
        "colab": {
          "base_uri": "https://localhost:8080/",
          "height": 0
        },
        "id": "kJ3LqvB_scY3",
        "outputId": "f2ea5e58-9213-4026-ffd4-d0a92af98939"
      },
      "execution_count": 1,
      "outputs": [
        {
          "output_type": "stream",
          "name": "stdout",
          "text": [
            "Mounted at /content/drive\n"
          ]
        }
      ]
    },
    {
      "cell_type": "markdown",
      "source": [
        "**Importación y configuración.**"
      ],
      "metadata": {
        "id": "Hjx8TIe5nRxd"
      }
    },
    {
      "cell_type": "code",
      "source": [
        "# === IMPORTS ===\n",
        "import os\n",
        "import numpy as np\n",
        "import pandas as pd\n",
        "\n",
        "from statsmodels.tsa.statespace.structural import UnobservedComponents\n",
        "from statsmodels.tsa.holtwinters import ExponentialSmoothing\n",
        "from sklearn.model_selection import TimeSeriesSplit\n",
        "from statsmodels.tsa.statespace.sarimax import SARIMAX\n",
        "from statsmodels.tsa.seasonal import STL\n",
        "\n",
        "import matplotlib.pyplot as plt\n",
        "import warnings\n",
        "warnings.filterwarnings(\"ignore\")"
      ],
      "metadata": {
        "id": "jf4taWwwyvoD"
      },
      "execution_count": 2,
      "outputs": []
    },
    {
      "cell_type": "code",
      "source": [
        "# Ruta de origen y lectura\n",
        "ruta = \"/content/drive/MyDrive/Proyecto Integrador TEC 2025/EDA/nacional_semanal.csv\"\n",
        "df = pd.read_csv(ruta)"
      ],
      "metadata": {
        "id": "vNdJI3-pvZzv"
      },
      "execution_count": 3,
      "outputs": []
    },
    {
      "cell_type": "markdown",
      "source": [
        "**Visualización previa**"
      ],
      "metadata": {
        "id": "WrGAekUFnx1F"
      }
    },
    {
      "cell_type": "code",
      "source": [
        "df.head(5)"
      ],
      "metadata": {
        "colab": {
          "base_uri": "https://localhost:8080/",
          "height": 206
        },
        "id": "k41amyqE1ai1",
        "outputId": "9382fa09-942b-40d5-99e0-09a364945b02"
      },
      "execution_count": 4,
      "outputs": [
        {
          "output_type": "execute_result",
          "data": {
            "text/plain": [
              "        Fecha  Nuevos_Casos\n",
              "0  2014-01-05          11.0\n",
              "1  2014-01-12          89.0\n",
              "2  2014-01-19         127.0\n",
              "3  2014-01-26         114.0\n",
              "4  2014-02-02         159.0"
            ],
            "text/html": [
              "\n",
              "  <div id=\"df-1cb55bcc-bdce-4d5b-b4ea-7535f65c1ac2\" class=\"colab-df-container\">\n",
              "    <div>\n",
              "<style scoped>\n",
              "    .dataframe tbody tr th:only-of-type {\n",
              "        vertical-align: middle;\n",
              "    }\n",
              "\n",
              "    .dataframe tbody tr th {\n",
              "        vertical-align: top;\n",
              "    }\n",
              "\n",
              "    .dataframe thead th {\n",
              "        text-align: right;\n",
              "    }\n",
              "</style>\n",
              "<table border=\"1\" class=\"dataframe\">\n",
              "  <thead>\n",
              "    <tr style=\"text-align: right;\">\n",
              "      <th></th>\n",
              "      <th>Fecha</th>\n",
              "      <th>Nuevos_Casos</th>\n",
              "    </tr>\n",
              "  </thead>\n",
              "  <tbody>\n",
              "    <tr>\n",
              "      <th>0</th>\n",
              "      <td>2014-01-05</td>\n",
              "      <td>11.0</td>\n",
              "    </tr>\n",
              "    <tr>\n",
              "      <th>1</th>\n",
              "      <td>2014-01-12</td>\n",
              "      <td>89.0</td>\n",
              "    </tr>\n",
              "    <tr>\n",
              "      <th>2</th>\n",
              "      <td>2014-01-19</td>\n",
              "      <td>127.0</td>\n",
              "    </tr>\n",
              "    <tr>\n",
              "      <th>3</th>\n",
              "      <td>2014-01-26</td>\n",
              "      <td>114.0</td>\n",
              "    </tr>\n",
              "    <tr>\n",
              "      <th>4</th>\n",
              "      <td>2014-02-02</td>\n",
              "      <td>159.0</td>\n",
              "    </tr>\n",
              "  </tbody>\n",
              "</table>\n",
              "</div>\n",
              "    <div class=\"colab-df-buttons\">\n",
              "\n",
              "  <div class=\"colab-df-container\">\n",
              "    <button class=\"colab-df-convert\" onclick=\"convertToInteractive('df-1cb55bcc-bdce-4d5b-b4ea-7535f65c1ac2')\"\n",
              "            title=\"Convert this dataframe to an interactive table.\"\n",
              "            style=\"display:none;\">\n",
              "\n",
              "  <svg xmlns=\"http://www.w3.org/2000/svg\" height=\"24px\" viewBox=\"0 -960 960 960\">\n",
              "    <path d=\"M120-120v-720h720v720H120Zm60-500h600v-160H180v160Zm220 220h160v-160H400v160Zm0 220h160v-160H400v160ZM180-400h160v-160H180v160Zm440 0h160v-160H620v160ZM180-180h160v-160H180v160Zm440 0h160v-160H620v160Z\"/>\n",
              "  </svg>\n",
              "    </button>\n",
              "\n",
              "  <style>\n",
              "    .colab-df-container {\n",
              "      display:flex;\n",
              "      gap: 12px;\n",
              "    }\n",
              "\n",
              "    .colab-df-convert {\n",
              "      background-color: #E8F0FE;\n",
              "      border: none;\n",
              "      border-radius: 50%;\n",
              "      cursor: pointer;\n",
              "      display: none;\n",
              "      fill: #1967D2;\n",
              "      height: 32px;\n",
              "      padding: 0 0 0 0;\n",
              "      width: 32px;\n",
              "    }\n",
              "\n",
              "    .colab-df-convert:hover {\n",
              "      background-color: #E2EBFA;\n",
              "      box-shadow: 0px 1px 2px rgba(60, 64, 67, 0.3), 0px 1px 3px 1px rgba(60, 64, 67, 0.15);\n",
              "      fill: #174EA6;\n",
              "    }\n",
              "\n",
              "    .colab-df-buttons div {\n",
              "      margin-bottom: 4px;\n",
              "    }\n",
              "\n",
              "    [theme=dark] .colab-df-convert {\n",
              "      background-color: #3B4455;\n",
              "      fill: #D2E3FC;\n",
              "    }\n",
              "\n",
              "    [theme=dark] .colab-df-convert:hover {\n",
              "      background-color: #434B5C;\n",
              "      box-shadow: 0px 1px 3px 1px rgba(0, 0, 0, 0.15);\n",
              "      filter: drop-shadow(0px 1px 2px rgba(0, 0, 0, 0.3));\n",
              "      fill: #FFFFFF;\n",
              "    }\n",
              "  </style>\n",
              "\n",
              "    <script>\n",
              "      const buttonEl =\n",
              "        document.querySelector('#df-1cb55bcc-bdce-4d5b-b4ea-7535f65c1ac2 button.colab-df-convert');\n",
              "      buttonEl.style.display =\n",
              "        google.colab.kernel.accessAllowed ? 'block' : 'none';\n",
              "\n",
              "      async function convertToInteractive(key) {\n",
              "        const element = document.querySelector('#df-1cb55bcc-bdce-4d5b-b4ea-7535f65c1ac2');\n",
              "        const dataTable =\n",
              "          await google.colab.kernel.invokeFunction('convertToInteractive',\n",
              "                                                    [key], {});\n",
              "        if (!dataTable) return;\n",
              "\n",
              "        const docLinkHtml = 'Like what you see? Visit the ' +\n",
              "          '<a target=\"_blank\" href=https://colab.research.google.com/notebooks/data_table.ipynb>data table notebook</a>'\n",
              "          + ' to learn more about interactive tables.';\n",
              "        element.innerHTML = '';\n",
              "        dataTable['output_type'] = 'display_data';\n",
              "        await google.colab.output.renderOutput(dataTable, element);\n",
              "        const docLink = document.createElement('div');\n",
              "        docLink.innerHTML = docLinkHtml;\n",
              "        element.appendChild(docLink);\n",
              "      }\n",
              "    </script>\n",
              "  </div>\n",
              "\n",
              "\n",
              "    <div id=\"df-012faad0-3a79-4a51-a09b-d66bac8fe7a5\">\n",
              "      <button class=\"colab-df-quickchart\" onclick=\"quickchart('df-012faad0-3a79-4a51-a09b-d66bac8fe7a5')\"\n",
              "                title=\"Suggest charts\"\n",
              "                style=\"display:none;\">\n",
              "\n",
              "<svg xmlns=\"http://www.w3.org/2000/svg\" height=\"24px\"viewBox=\"0 0 24 24\"\n",
              "     width=\"24px\">\n",
              "    <g>\n",
              "        <path d=\"M19 3H5c-1.1 0-2 .9-2 2v14c0 1.1.9 2 2 2h14c1.1 0 2-.9 2-2V5c0-1.1-.9-2-2-2zM9 17H7v-7h2v7zm4 0h-2V7h2v10zm4 0h-2v-4h2v4z\"/>\n",
              "    </g>\n",
              "</svg>\n",
              "      </button>\n",
              "\n",
              "<style>\n",
              "  .colab-df-quickchart {\n",
              "      --bg-color: #E8F0FE;\n",
              "      --fill-color: #1967D2;\n",
              "      --hover-bg-color: #E2EBFA;\n",
              "      --hover-fill-color: #174EA6;\n",
              "      --disabled-fill-color: #AAA;\n",
              "      --disabled-bg-color: #DDD;\n",
              "  }\n",
              "\n",
              "  [theme=dark] .colab-df-quickchart {\n",
              "      --bg-color: #3B4455;\n",
              "      --fill-color: #D2E3FC;\n",
              "      --hover-bg-color: #434B5C;\n",
              "      --hover-fill-color: #FFFFFF;\n",
              "      --disabled-bg-color: #3B4455;\n",
              "      --disabled-fill-color: #666;\n",
              "  }\n",
              "\n",
              "  .colab-df-quickchart {\n",
              "    background-color: var(--bg-color);\n",
              "    border: none;\n",
              "    border-radius: 50%;\n",
              "    cursor: pointer;\n",
              "    display: none;\n",
              "    fill: var(--fill-color);\n",
              "    height: 32px;\n",
              "    padding: 0;\n",
              "    width: 32px;\n",
              "  }\n",
              "\n",
              "  .colab-df-quickchart:hover {\n",
              "    background-color: var(--hover-bg-color);\n",
              "    box-shadow: 0 1px 2px rgba(60, 64, 67, 0.3), 0 1px 3px 1px rgba(60, 64, 67, 0.15);\n",
              "    fill: var(--button-hover-fill-color);\n",
              "  }\n",
              "\n",
              "  .colab-df-quickchart-complete:disabled,\n",
              "  .colab-df-quickchart-complete:disabled:hover {\n",
              "    background-color: var(--disabled-bg-color);\n",
              "    fill: var(--disabled-fill-color);\n",
              "    box-shadow: none;\n",
              "  }\n",
              "\n",
              "  .colab-df-spinner {\n",
              "    border: 2px solid var(--fill-color);\n",
              "    border-color: transparent;\n",
              "    border-bottom-color: var(--fill-color);\n",
              "    animation:\n",
              "      spin 1s steps(1) infinite;\n",
              "  }\n",
              "\n",
              "  @keyframes spin {\n",
              "    0% {\n",
              "      border-color: transparent;\n",
              "      border-bottom-color: var(--fill-color);\n",
              "      border-left-color: var(--fill-color);\n",
              "    }\n",
              "    20% {\n",
              "      border-color: transparent;\n",
              "      border-left-color: var(--fill-color);\n",
              "      border-top-color: var(--fill-color);\n",
              "    }\n",
              "    30% {\n",
              "      border-color: transparent;\n",
              "      border-left-color: var(--fill-color);\n",
              "      border-top-color: var(--fill-color);\n",
              "      border-right-color: var(--fill-color);\n",
              "    }\n",
              "    40% {\n",
              "      border-color: transparent;\n",
              "      border-right-color: var(--fill-color);\n",
              "      border-top-color: var(--fill-color);\n",
              "    }\n",
              "    60% {\n",
              "      border-color: transparent;\n",
              "      border-right-color: var(--fill-color);\n",
              "    }\n",
              "    80% {\n",
              "      border-color: transparent;\n",
              "      border-right-color: var(--fill-color);\n",
              "      border-bottom-color: var(--fill-color);\n",
              "    }\n",
              "    90% {\n",
              "      border-color: transparent;\n",
              "      border-bottom-color: var(--fill-color);\n",
              "    }\n",
              "  }\n",
              "</style>\n",
              "\n",
              "      <script>\n",
              "        async function quickchart(key) {\n",
              "          const quickchartButtonEl =\n",
              "            document.querySelector('#' + key + ' button');\n",
              "          quickchartButtonEl.disabled = true;  // To prevent multiple clicks.\n",
              "          quickchartButtonEl.classList.add('colab-df-spinner');\n",
              "          try {\n",
              "            const charts = await google.colab.kernel.invokeFunction(\n",
              "                'suggestCharts', [key], {});\n",
              "          } catch (error) {\n",
              "            console.error('Error during call to suggestCharts:', error);\n",
              "          }\n",
              "          quickchartButtonEl.classList.remove('colab-df-spinner');\n",
              "          quickchartButtonEl.classList.add('colab-df-quickchart-complete');\n",
              "        }\n",
              "        (() => {\n",
              "          let quickchartButtonEl =\n",
              "            document.querySelector('#df-012faad0-3a79-4a51-a09b-d66bac8fe7a5 button');\n",
              "          quickchartButtonEl.style.display =\n",
              "            google.colab.kernel.accessAllowed ? 'block' : 'none';\n",
              "        })();\n",
              "      </script>\n",
              "    </div>\n",
              "\n",
              "    </div>\n",
              "  </div>\n"
            ],
            "application/vnd.google.colaboratory.intrinsic+json": {
              "type": "dataframe",
              "variable_name": "df",
              "summary": "{\n  \"name\": \"df\",\n  \"rows\": 573,\n  \"fields\": [\n    {\n      \"column\": \"Fecha\",\n      \"properties\": {\n        \"dtype\": \"object\",\n        \"num_unique_values\": 573,\n        \"samples\": [\n          \"2023-11-05\",\n          \"2015-05-10\",\n          \"2016-07-10\"\n        ],\n        \"semantic_type\": \"\",\n        \"description\": \"\"\n      }\n    },\n    {\n      \"column\": \"Nuevos_Casos\",\n      \"properties\": {\n        \"dtype\": \"number\",\n        \"std\": 39.43221125975362,\n        \"min\": 11.0,\n        \"max\": 258.0,\n        \"num_unique_values\": 159,\n        \"samples\": [\n          66.0,\n          198.0,\n          52.0\n        ],\n        \"semantic_type\": \"\",\n        \"description\": \"\"\n      }\n    }\n  ]\n}"
            }
          },
          "metadata": {},
          "execution_count": 4
        }
      ]
    },
    {
      "cell_type": "markdown",
      "source": [
        "**Configuración y series de trabajo**"
      ],
      "metadata": {
        "id": "gt8OUyhVzfyk"
      }
    },
    {
      "cell_type": "code",
      "source": [
        "S = 52  # periodicidad semanal\n",
        "\n",
        "# Copia y ordena el DataFrame original\n",
        "df_model = df.copy().sort_values(\"Fecha\").reset_index(drop=True)\n",
        "\n",
        "# Serie objetivo\n",
        "y = df_model.set_index(\"Fecha\")[\"Nuevos_Casos\"].astype(float)\n",
        "\n",
        "# Asegura índice tipo datetime y orden temporal\n",
        "y.index = pd.to_datetime(y.index)\n",
        "y = y.sort_index()\n",
        "\n",
        "# División temporal (train / test)\n",
        "TEST_WEEKS = 52\n",
        "cut = max(len(y) - TEST_WEEKS, 1)\n",
        "y_train, y_test = y.iloc[:cut], y.iloc[cut:]\n",
        "\n",
        "# Asegurar que ambos índices son datetime\n",
        "y_train.index = pd.to_datetime(y_train.index)\n",
        "y_test.index = pd.to_datetime(y_test.index)\n",
        "\n",
        "# === Verificación\n",
        "print(f\"Tamaño total: {len(y)} | Train: {len(y_train)} | Test: {len(y_test)}\")\n",
        "print(f\"Train desde {y_train.index.min().date()} hasta {y_train.index.max().date()}\")\n",
        "print(f\"Test  desde {y_test.index.min().date()} hasta {y_test.index.max().date()}\")\n"
      ],
      "metadata": {
        "id": "YgXAhspYzcBv",
        "colab": {
          "base_uri": "https://localhost:8080/",
          "height": 0
        },
        "outputId": "8431b157-ae9a-4468-9b81-edbeb1c0c13a"
      },
      "execution_count": 5,
      "outputs": [
        {
          "output_type": "stream",
          "name": "stdout",
          "text": [
            "Tamaño total: 573 | Train: 521 | Test: 52\n",
            "Train desde 2014-01-05 hasta 2023-12-24\n",
            "Test  desde 2023-12-31 hasta 2024-12-22\n"
          ]
        }
      ]
    },
    {
      "cell_type": "markdown",
      "source": [
        "**Métricas (MAE, sMAPE, MASE)**"
      ],
      "metadata": {
        "id": "ildcOKTczkPP"
      }
    },
    {
      "cell_type": "code",
      "source": [
        "def mae(y_true, y_pred):\n",
        "    y_true = np.asarray(y_true, dtype=float)\n",
        "    y_pred = np.asarray(y_pred, dtype=float)\n",
        "    mask = np.isfinite(y_true) & np.isfinite(y_pred)\n",
        "    return float(np.mean(np.abs(y_true[mask] - y_pred[mask])))\n",
        "\n",
        "# Métricas\n",
        "def smape(y_true, y_pred, eps=1e-9):\n",
        "    y_true = np.asarray(y_true, dtype=float)\n",
        "    y_pred = np.asarray(y_pred, dtype=float)\n",
        "    mask = np.isfinite(y_true) & np.isfinite(y_pred)\n",
        "    y_true = y_true[mask]\n",
        "    y_pred = y_pred[mask]\n",
        "    den = np.maximum(np.abs(y_true) + np.abs(y_pred), eps)  # evita división por 0\n",
        "    return float(200.0 * np.mean(np.abs(y_pred - y_true) / den))\n",
        "\n",
        "def mase(y_train, y_true, y_pred, m=52):  # semanal: m=52\n",
        "    y_train = np.asarray(y_train, dtype=float)\n",
        "    y_true  = np.asarray(y_true,  dtype=float)\n",
        "    y_pred  = np.asarray(y_pred,  dtype=float)\n",
        "\n",
        "    # limpiar\n",
        "    y_train = y_train[np.isfinite(y_train)]\n",
        "\n",
        "    # escala con error del naïve estacional (TRAIN)\n",
        "    if len(y_train) > m:\n",
        "        diff = y_train[m:] - y_train[:-m]\n",
        "        diff = diff[np.isfinite(diff)]\n",
        "        scale = np.mean(np.abs(diff)) if diff.size else np.nan\n",
        "    else:\n",
        "        # fallback si la serie es corta\n",
        "        yt = y_train\n",
        "        scale = np.mean(np.abs(np.diff(yt))) if yt.size > 1 else np.nan\n",
        "\n",
        "    if not np.isfinite(scale) or scale == 0:\n",
        "        return float('nan')\n",
        "\n",
        "    # MAE del modelo en el segmento de evaluación\n",
        "    mask_ev = np.isfinite(y_true) & np.isfinite(y_pred)\n",
        "    mae_model = np.mean(np.abs(y_true[mask_ev] - y_pred[mask_ev])) if np.any(mask_ev) else np.nan\n",
        "\n",
        "    return float(mae_model / scale) if np.isfinite(mae_model) else float('nan')"
      ],
      "metadata": {
        "id": "-Se5f5SZznhH"
      },
      "execution_count": 6,
      "outputs": []
    },
    {
      "cell_type": "markdown",
      "source": [
        "**Fourier (para estacionalidad flexible en ARIMA/SARIMAX)**"
      ],
      "metadata": {
        "id": "UMVJDws0zsUo"
      }
    },
    {
      "cell_type": "code",
      "source": [
        "def fourier(df_index, m=S, K=2):\n",
        "    \"\"\"Devuelve DataFrame con senos/cosenos para K armónicos.\"\"\"\n",
        "    t = np.arange(len(df_index))\n",
        "    feats = {}\n",
        "    for k in range(1, K+1):\n",
        "        feats[f'sin_{k}'] = np.sin(2*np.pi*k*t/m)\n",
        "        feats[f'cos_{k}'] = np.cos(2*np.pi*k*t/m)\n",
        "    return pd.DataFrame(feats, index=df_index)"
      ],
      "metadata": {
        "id": "swiNrSouzwoW"
      },
      "execution_count": 7,
      "outputs": []
    },
    {
      "cell_type": "markdown",
      "source": [
        "**Interfaz base y registro de modelos**"
      ],
      "metadata": {
        "id": "M8dw-8Kqz0us"
      }
    },
    {
      "cell_type": "code",
      "source": [
        "class BaseForecaster:\n",
        "    def fit(self, y_train: pd.Series, exog: pd.DataFrame | None = None): ...\n",
        "    def predict(self, steps: int, exog: pd.DataFrame | None = None) -> pd.Series: ...\n",
        "\n",
        "REGISTRY = {}  # nombre -> clase\n",
        "def register(name):\n",
        "    def _wrap(cls):\n",
        "        REGISTRY[name] = cls\n",
        "        return cls\n",
        "    return _wrap"
      ],
      "metadata": {
        "id": "oYNjz_s5z2yg"
      },
      "execution_count": 8,
      "outputs": []
    },
    {
      "cell_type": "markdown",
      "source": [
        "**ETS (Holt–Winters amortiguado)**"
      ],
      "metadata": {
        "id": "OlP7gB3uz7Ap"
      }
    },
    {
      "cell_type": "code",
      "source": [
        "@register(\"ETS\")\n",
        "class ETSForecaster(BaseForecaster):\n",
        "    def __init__(self, trend=\"add\", damped_trend=True, seasonal=None, seasonal_periods=S):\n",
        "        self.kw = dict(trend=trend, damped_trend=damped_trend,\n",
        "                       seasonal=seasonal, seasonal_periods=seasonal_periods)\n",
        "        self.model_ = None\n",
        "    def fit(self, y_train):\n",
        "        self.model_ = ExponentialSmoothing(y_train, **self.kw).fit(optimized=True)\n",
        "        self.index_train_ = y_train.index\n",
        "        return self\n",
        "    def predict(self, steps):\n",
        "        idx = pd.date_range(self.index_train_[-1] + pd.offsets.Week(weekday=6),\n",
        "                            periods=steps, freq=\"W-SUN\")\n",
        "        fc = self.model_.forecast(steps)\n",
        "        return pd.Series(fc.values, index=idx, name=\"yhat\")"
      ],
      "metadata": {
        "id": "YVVM_ZY5z80Z"
      },
      "execution_count": 9,
      "outputs": []
    },
    {
      "cell_type": "markdown",
      "source": [
        "**SARIMA (SARIMAX sin exógenas)**"
      ],
      "metadata": {
        "id": "adG215NT0N23"
      }
    },
    {
      "cell_type": "code",
      "source": [
        "@register(\"SARIMA\")\n",
        "class SARIMAForecaster(BaseForecaster):\n",
        "    def __init__(self, order=(1,1,1), seasonal_order=(0,0,0,52), transform=None):\n",
        "        self.order = order\n",
        "        self.seasonal_order = seasonal_order\n",
        "        self.transform = transform\n",
        "        self.res_ = None\n",
        "        self.endog_index_ = None\n",
        "        self.freq_ = None\n",
        "        self.exog_cols_ = None  # columnas esperadas de exógenas con residuos\n",
        "\n",
        "    def _apply_transform(self, y):\n",
        "        if self.transform == \"log\":\n",
        "            return np.log(y)\n",
        "        elif self.transform == \"log1p\":\n",
        "            return np.log1p(y)\n",
        "        return y\n",
        "\n",
        "    def _invert_transform(self, arr):\n",
        "        if self.transform == \"log\":\n",
        "            return np.exp(arr)\n",
        "        elif self.transform == \"log1p\":\n",
        "            return np.expm1(arr)\n",
        "        return arr\n",
        "\n",
        "    def fit(self, y_train, exog: pd.DataFrame | None = None):\n",
        "        y_train = pd.Series(y_train.astype(float), index=pd.to_datetime(y_train.index))\n",
        "        y_t = self._apply_transform(y_train)\n",
        "\n",
        "        # Guarda índice y frecuencia para construir horizontes coherentes\n",
        "        self.endog_index_ = y_train.index\n",
        "        self.freq_ = self.endog_index_.freq or pd.infer_freq(self.endog_index_)\n",
        "        if self.freq_ is None:\n",
        "            # fallback razonable semanal\n",
        "            self.freq_ = \"W-SUN\"\n",
        "\n",
        "        # Alinear exógenas al TRAIN\n",
        "        if exog is not None:\n",
        "            exog = exog.reindex(self.endog_index_).fillna(0)\n",
        "            self.exog_cols_ = list(exog.columns)\n",
        "        else:\n",
        "            self.exog_cols_ = None\n",
        "\n",
        "        mod = SARIMAX(\n",
        "            y_t,\n",
        "            exog=exog,\n",
        "            order=self.order,\n",
        "            seasonal_order=self.seasonal_order,\n",
        "            enforce_stationarity=False,\n",
        "            enforce_invertibility=False\n",
        "        )\n",
        "        self.res_ = mod.fit(disp=False)\n",
        "        return self\n",
        "\n",
        "    def predict(self, steps: int, exog: pd.DataFrame | None = None):\n",
        "        # Si el modelo fue entrenado con exógenas, garantizar que el futuro tenga mismas columnas\n",
        "        if self.exog_cols_ is not None:\n",
        "            if exog is None:\n",
        "                # construir exógenas futuras en ceros\n",
        "                future_idx = pd.date_range(\n",
        "                    self.endog_index_[-1] + pd.tseries.frequencies.to_offset(self.freq_),\n",
        "                    periods=steps,\n",
        "                    freq=self.freq_,\n",
        "                )\n",
        "                exog = pd.DataFrame(0, index=future_idx, columns=self.exog_cols_)\n",
        "            else:\n",
        "                # asegurar columnas y orden\n",
        "                exog = exog.reindex(columns=self.exog_cols_).fillna(0)\n",
        "                # si no trae índice, lo generamos\n",
        "                if exog.index.dtype != \"datetime64[ns]\":\n",
        "                    future_idx = pd.date_range(\n",
        "                        self.endog_index_[-1] + pd.tseries.frequencies.to_offset(self.freq_),\n",
        "                        periods=steps,\n",
        "                        freq=self.freq_,\n",
        "                    )\n",
        "                    exog.index = future_idx\n",
        "\n",
        "        fc = self.res_.get_forecast(steps=steps, exog=exog)\n",
        "        fc_values = fc.predicted_mean.values\n",
        "        fc_values = self._invert_transform(fc_values)\n",
        "\n",
        "        # índice futuro\n",
        "        if exog is not None and isinstance(exog.index, pd.DatetimeIndex):\n",
        "            idx = exog.index\n",
        "        else:\n",
        "            idx = pd.date_range(\n",
        "                self.endog_index_[-1] + pd.tseries.frequencies.to_offset(self.freq_),\n",
        "                periods=steps,\n",
        "                freq=self.freq_,\n",
        "            )\n",
        "        return pd.Series(fc_values, index=idx, name=\"yhat\")"
      ],
      "metadata": {
        "id": "T0FFGS1f0RF9"
      },
      "execution_count": 10,
      "outputs": []
    },
    {
      "cell_type": "markdown",
      "source": [
        "**ARIMA + Fourier (estacionalidad flexible)**"
      ],
      "metadata": {
        "id": "Pc5mf5p60WKZ"
      }
    },
    {
      "cell_type": "code",
      "source": [
        "@register(\"ARIMA_FOURIER\")\n",
        "class ARIMAFourierForecaster(BaseForecaster):\n",
        "    def __init__(self, order=(1,1,1), K=2, m=S):\n",
        "        self.order = order; self.K = K; self.m = m\n",
        "        self.res_ = None; self.last_index_ = None\n",
        "    def fit(self, y_train):\n",
        "        X = fourier(y_train.index, m=self.m, K=self.K)\n",
        "        self.last_index_ = y_train.index\n",
        "        mod = SARIMAX(y_train, order=self.order, seasonal_order=(0,0,0,0),\n",
        "                      exog=X, enforce_stationarity=False, enforce_invertibility=False)\n",
        "        self.res_ = mod.fit(disp=False)\n",
        "        return self\n",
        "    def predict(self, steps):\n",
        "        idx = pd.date_range(self.last_index_[-1] + pd.offsets.Week(weekday=6),\n",
        "                            periods=steps, freq=\"W-SUN\")\n",
        "        Xf = fourier(idx, m=self.m, K=self.K)\n",
        "        fc = self.res_.get_forecast(steps=steps, exog=Xf)\n",
        "        return pd.Series(fc.predicted_mean.values, index=idx, name=\"yhat\")"
      ],
      "metadata": {
        "id": "bsVDAkh50Xir"
      },
      "execution_count": 11,
      "outputs": []
    },
    {
      "cell_type": "markdown",
      "source": [
        "**UCM (tendencia + estacionalidad opcional)**"
      ],
      "metadata": {
        "id": "99Lp8vfV0dkc"
      }
    },
    {
      "cell_type": "code",
      "source": [
        "@register(\"UCM\")\n",
        "class UCMForecaster(BaseForecaster):\n",
        "    def __init__(self, level=\"local linear trend\", seasonal=S, irregular=True):\n",
        "        self.level = level; self.seasonal = seasonal; self.irregular = irregular\n",
        "        self.res_ = None; self.end_ = None\n",
        "    def fit(self, y_train):\n",
        "        self.end_ = y_train.index\n",
        "        mod = UnobservedComponents(y_train, level=self.level,\n",
        "                                   seasonal=self.seasonal, irregular=self.irregular)\n",
        "        self.res_ = mod.fit(disp=False)\n",
        "        return self\n",
        "    def predict(self, steps):\n",
        "        fc = self.res_.get_forecast(steps=steps)\n",
        "        idx = pd.date_range(self.end_[-1] + pd.offsets.Week(weekday=6),\n",
        "                            periods=steps, freq=\"W-SUN\")\n",
        "        return pd.Series(fc.predicted_mean.values, index=idx, name=\"yhat\")"
      ],
      "metadata": {
        "id": "EWv0m84i0gGV"
      },
      "execution_count": 12,
      "outputs": []
    },
    {
      "cell_type": "markdown",
      "source": [
        "**STL + ARIMA (modelo sobre residuo; la estacionalidad se quita vía STL)**"
      ],
      "metadata": {
        "id": "6brXGsHY0jes"
      }
    },
    {
      "cell_type": "code",
      "source": [
        "@register(\"STL_ARIMA\")\n",
        "class STL_ARIMA_Forecaster(BaseForecaster):\n",
        "    def __init__(self, period=S, order=(1,1,1)):\n",
        "        self.period = period; self.order = order\n",
        "        self.stl_ = None; self.res_ = None; self.last_index_ = None\n",
        "        self.trend_ = None; self.seasonal_ = None\n",
        "    def fit(self, y_train):\n",
        "        self.last_index_ = y_train.index\n",
        "        self.stl_ = STL(y_train, period=self.period, robust=True).fit()\n",
        "        resid = y_train - self.stl_.seasonal\n",
        "        self.trend_ = self.stl_.trend\n",
        "        self.seasonal_ = self.stl_.seasonal\n",
        "        mod = SARIMAX(resid, order=self.order, seasonal_order=(0,0,0,0),\n",
        "                      enforce_stationarity=False, enforce_invertibility=False)\n",
        "        self.res_ = mod.fit(disp=False)\n",
        "        return self\n",
        "    def predict(self, steps):\n",
        "        # proyección: residuo + última estacionalidad conocida\n",
        "        idx = pd.date_range(self.last_index_[-1] + pd.offsets.Week(weekday=6),\n",
        "                            periods=steps, freq=\"W-SUN\")\n",
        "        resid_fc = self.res_.get_forecast(steps=steps).predicted_mean\n",
        "        # repetir patrón estacional de longitud S\n",
        "        seas_tail = pd.Series(self.seasonal_.values[-self.period:], index=self.seasonal_.index[-self.period:])\n",
        "        seas_fc = pd.Series(np.resize(seas_tail.values, steps), index=idx)\n",
        "        return pd.Series(resid_fc.values + seas_fc.values, index=idx, name=\"yhat\")"
      ],
      "metadata": {
        "id": "d2jW6NiR0mTf"
      },
      "execution_count": 13,
      "outputs": []
    },
    {
      "cell_type": "markdown",
      "source": [
        "**Función para ejecutar modelo por nombre + hiperparámetros**"
      ],
      "metadata": {
        "id": "C71DHlLP0saN"
      }
    },
    {
      "cell_type": "code",
      "source": [
        "def run_model(model_name: str, **kwargs):\n",
        "    if model_name not in REGISTRY:\n",
        "        raise ValueError(f\"Modelo '{model_name}' no está registrado. Opciones: {list(REGISTRY)}\")\n",
        "\n",
        "    # Extrae exógenas del TRAIN\n",
        "    exog_train = kwargs.pop(\"exog\", None)\n",
        "\n",
        "    # Instancia el forecaster con el resto de parámetros\n",
        "    model = REGISTRY[model_name](**kwargs)\n",
        "\n",
        "    # Fit\n",
        "    used_exog = False\n",
        "    if exog_train is not None:\n",
        "        exog_aligned = exog_train.reindex(y_train.index).fillna(0)\n",
        "        try:\n",
        "            model = model.fit(y_train, exog=exog_aligned)\n",
        "            used_exog = True\n",
        "        except TypeError:\n",
        "            model = model.fit(y_train)\n",
        "    else:\n",
        "        model = model.fit(y_train)\n",
        "\n",
        "    # Horizonte\n",
        "    steps = len(y_test)\n",
        "\n",
        "    # Predict\n",
        "    if used_exog:\n",
        "        exog_future = pd.DataFrame(0, index=y_test.index, columns=exog_aligned.columns)\n",
        "        try:\n",
        "            yhat = model.predict(steps=steps, exog=exog_future)\n",
        "        except TypeError:\n",
        "            yhat = model.predict(steps=steps)\n",
        "    else:\n",
        "        yhat = model.predict(steps=steps)\n",
        "\n",
        "    # Alinear por índice\n",
        "    y_true = y_test.loc[yhat.index.intersection(y_test.index)]\n",
        "    y_pred = yhat.loc[y_true.index]\n",
        "\n",
        "    # Métricas sin residuales\n",
        "    out = {\n",
        "        \"model\": model_name,\n",
        "        \"params\": kwargs,\n",
        "        \"MAE\": mae(y_true, y_pred),\n",
        "        \"sMAPE\": smape(y_true, y_pred),\n",
        "        \"MASE\": mase(y_train, y_true, y_pred, m=S),\n",
        "    }\n",
        "\n",
        "    return out, y_pred"
      ],
      "metadata": {
        "id": "ijr-amlW0x2q"
      },
      "execution_count": 14,
      "outputs": []
    },
    {
      "cell_type": "markdown",
      "source": [
        "**Creación de exogenas residuales**"
      ],
      "metadata": {
        "id": "OxkfH-l72mxE"
      }
    },
    {
      "cell_type": "code",
      "source": [
        "# creación de exógenas (shocks)\n",
        "# Re-fit del modelo SARIMA base para obtener residuales\n",
        "mdl_tmp = SARIMAForecaster(order=(2,0,1), seasonal_order=(0,1,1,S), transform=\"log1p\").fit(y_train)\n",
        "resid = pd.Series(mdl_tmp.res_.resid, index=mdl_tmp.endog_index_)\n",
        "\n",
        "# Identificar las TOP-3 semanas con mayores outliers (|residuo|)\n",
        "TOP_K = min(3, len(resid))\n",
        "idx_out = resid.abs().sort_values(ascending=False).head(TOP_K).index\n",
        "\n",
        "# Crear las variables dummy (exógenas) para esas semanas\n",
        "X_train = pd.DataFrame(0, index=y_train.index, columns=[f\"shock_{i}\" for i in range(TOP_K)])\n",
        "for j, ix in enumerate(idx_out):\n",
        "    if ix in X_train.index:\n",
        "        X_train.loc[ix, f\"shock_{j}\"] = 1\n",
        "\n",
        "# Verificación\n",
        "print(\"Exógenas creadas:\", list(X_train.columns))\n",
        "print(X_train.sum())  # número de semanas marcadas por cada dummy"
      ],
      "metadata": {
        "colab": {
          "base_uri": "https://localhost:8080/",
          "height": 0
        },
        "id": "TgurYFLJ2reJ",
        "outputId": "27610f2e-c76e-4c07-ee2f-42ee1f1dc404"
      },
      "execution_count": 15,
      "outputs": [
        {
          "output_type": "stream",
          "name": "stdout",
          "text": [
            "Exógenas creadas: ['shock_0', 'shock_1', 'shock_2']\n",
            "shock_0    1\n",
            "shock_1    1\n",
            "shock_2    1\n",
            "dtype: int64\n"
          ]
        }
      ]
    },
    {
      "cell_type": "markdown",
      "source": [
        "**Ejecución (uno a la vez)**"
      ],
      "metadata": {
        "id": "3hdrWHya07Tq"
      }
    },
    {
      "cell_type": "code",
      "source": [
        "# ETS amortiguado sin estacionalidad\n",
        "res_ets, fc_ets = run_model(\"ETS\", trend=\"add\", damped_trend=True, seasonal=\"add\")\n",
        "print(res_ets)"
      ],
      "metadata": {
        "id": "W8glc1ae1OoQ",
        "colab": {
          "base_uri": "https://localhost:8080/",
          "height": 0
        },
        "outputId": "0e8db9b5-1319-4976-eaed-31b6784f3d0b"
      },
      "execution_count": 16,
      "outputs": [
        {
          "output_type": "stream",
          "name": "stdout",
          "text": [
            "{'model': 'ETS', 'params': {'trend': 'add', 'damped_trend': True, 'seasonal': 'add'}, 'MAE': 18.874143930548932, 'sMAPE': 12.791726635342629, 'MASE': 0.45448341651319246}\n"
          ]
        }
      ]
    },
    {
      "cell_type": "code",
      "source": [
        "res_sarima, fc_sarima = run_model(\"SARIMA\", order=(2,0,1), seasonal_order=(0,1,1,52))\n",
        "print(res_sarima)"
      ],
      "metadata": {
        "id": "MunrtYq51OhH",
        "colab": {
          "base_uri": "https://localhost:8080/",
          "height": 0
        },
        "outputId": "4e913be0-bd33-4008-b216-3d8667b84244"
      },
      "execution_count": 17,
      "outputs": [
        {
          "output_type": "stream",
          "name": "stdout",
          "text": [
            "{'model': 'SARIMA', 'params': {'order': (2, 0, 1), 'seasonal_order': (0, 1, 1, 52)}, 'MAE': 17.509618996937913, 'sMAPE': 11.82009299440506, 'MASE': 0.42162608767078513}\n"
          ]
        }
      ]
    },
    {
      "cell_type": "code",
      "source": [
        "res_af, fc_af = run_model(\"ARIMA_FOURIER\", order=(2,0,1), K=2, m=52)\n",
        "print(res_af)"
      ],
      "metadata": {
        "id": "Z8DC5L-91OaK",
        "colab": {
          "base_uri": "https://localhost:8080/",
          "height": 0
        },
        "outputId": "3d6ae07b-4e69-424d-b8bf-f7910cbdb2f4"
      },
      "execution_count": 18,
      "outputs": [
        {
          "output_type": "stream",
          "name": "stdout",
          "text": [
            "{'model': 'ARIMA_FOURIER', 'params': {'order': (2, 0, 1), 'K': 2, 'm': 52}, 'MAE': 17.683462515189536, 'sMAPE': 12.423820875155183, 'MASE': 0.42581218460871245}\n"
          ]
        }
      ]
    },
    {
      "cell_type": "code",
      "source": [
        "res_ucm, fc_ucm = run_model(\"UCM\", level=\"local level\", seasonal=52)\n",
        "print(res_ucm)"
      ],
      "metadata": {
        "id": "RqwXsFky1OSj",
        "colab": {
          "base_uri": "https://localhost:8080/",
          "height": 0
        },
        "outputId": "a05cf12d-05dc-4b84-cd9a-9cfa03888653"
      },
      "execution_count": 19,
      "outputs": [
        {
          "output_type": "stream",
          "name": "stdout",
          "text": [
            "{'model': 'UCM', 'params': {'level': 'local level', 'seasonal': 52}, 'MAE': 17.876734724131925, 'sMAPE': 12.156827942507977, 'MASE': 0.4304661182737523}\n"
          ]
        }
      ]
    },
    {
      "cell_type": "code",
      "source": [
        "res_stl, fc_stl = run_model(\"STL_ARIMA\", period=52, order=(1,0,1))\n",
        "print(res_stl)"
      ],
      "metadata": {
        "id": "pa2VL5_C1BCQ",
        "colab": {
          "base_uri": "https://localhost:8080/",
          "height": 0
        },
        "outputId": "6177b9d0-463e-4b68-e2f9-32d0a0fabd7f"
      },
      "execution_count": 20,
      "outputs": [
        {
          "output_type": "stream",
          "name": "stdout",
          "text": [
            "{'model': 'STL_ARIMA', 'params': {'period': 52, 'order': (1, 0, 1)}, 'MAE': 28.61958403951618, 'sMAPE': 18.021442103712932, 'MASE': 0.6891505321421723}\n"
          ]
        }
      ]
    },
    {
      "cell_type": "markdown",
      "source": [
        "**Mejor modelo con parametros ajustados**"
      ],
      "metadata": {
        "id": "LIeXMyvEmCAt"
      }
    },
    {
      "cell_type": "code",
      "source": [
        "res_sarima, fc_sarima = run_model(\"SARIMA\", order=(2,0,1), seasonal_order=(0,1,1,52), transform=\"log1p\"); print(res_sarima)"
      ],
      "metadata": {
        "id": "Pxt6bPxymFdw",
        "colab": {
          "base_uri": "https://localhost:8080/",
          "height": 0
        },
        "outputId": "505b7201-c602-4391-f2f9-0c920ff8b5cf"
      },
      "execution_count": 21,
      "outputs": [
        {
          "output_type": "stream",
          "name": "stdout",
          "text": [
            "{'model': 'SARIMA', 'params': {'order': (2, 0, 1), 'seasonal_order': (0, 1, 1, 52), 'transform': 'log1p'}, 'MAE': 17.025649539188684, 'sMAPE': 11.577978082557411, 'MASE': 0.4099722561934329}\n"
          ]
        }
      ]
    },
    {
      "cell_type": "code",
      "source": [
        "res_sarima, fc_sarima = run_model(\"SARIMA\", order=(2,0,1), seasonal_order=(0,1,1,52), transform=\"log\"); print(res_sarima)"
      ],
      "metadata": {
        "id": "RYF1k3B5sVpW",
        "colab": {
          "base_uri": "https://localhost:8080/",
          "height": 0
        },
        "outputId": "fe0ac77a-94c5-401f-e98a-3658aa04dbb0"
      },
      "execution_count": 22,
      "outputs": [
        {
          "output_type": "stream",
          "name": "stdout",
          "text": [
            "{'model': 'SARIMA', 'params': {'order': (2, 0, 1), 'seasonal_order': (0, 1, 1, 52), 'transform': 'log'}, 'MAE': 17.02936613510958, 'sMAPE': 11.58273631712917, 'MASE': 0.41006175064775857}\n"
          ]
        }
      ]
    },
    {
      "cell_type": "code",
      "source": [
        "res_sarima_x, fc_sarima_x = run_model(\"SARIMA\", order=(2,0,1), seasonal_order=(0,1,1,S), transform=\"log1p\", exog=X_train)\n",
        "print(res_sarima_x)"
      ],
      "metadata": {
        "id": "dsytsgCouhTP",
        "colab": {
          "base_uri": "https://localhost:8080/",
          "height": 0
        },
        "outputId": "fa838437-1181-43d0-b118-c681984f0793"
      },
      "execution_count": 23,
      "outputs": [
        {
          "output_type": "stream",
          "name": "stdout",
          "text": [
            "{'model': 'SARIMA', 'params': {'order': (2, 0, 1), 'seasonal_order': (0, 1, 1, 52), 'transform': 'log1p'}, 'MAE': 16.822437938944002, 'sMAPE': 11.460050610235603, 'MASE': 0.4050789851293699}\n"
          ]
        }
      ]
    },
    {
      "cell_type": "markdown",
      "source": [
        "**Proceso de optimización SARIMA con variables exógenas (“shocks”)**\n",
        "\n",
        "Se realizó una búsqueda local de hiperparámetros para el modelo SARIMA, incluyendo variaciones en los órdenes autorregresivos y de medias móviles tanto regulares como estacionales, así como el tipo de transformación logarítmica aplicada a la serie (log y log1p)."
      ],
      "metadata": {
        "id": "MMxdYFw3SKtZ"
      }
    },
    {
      "cell_type": "code",
      "source": [
        "res_sarima_x, fc_sarima_x = run_model(\"SARIMA\", order=(3,0,2), seasonal_order=(0,1,1,52), transform=\"log1p\", exog=X_train); print(res_sarima_x)"
      ],
      "metadata": {
        "id": "omhFOGQn5Ob7",
        "colab": {
          "base_uri": "https://localhost:8080/"
        },
        "outputId": "7680f70c-0109-43b4-a840-e24483f5ff67"
      },
      "execution_count": 24,
      "outputs": [
        {
          "output_type": "stream",
          "name": "stdout",
          "text": [
            "{'model': 'SARIMA', 'params': {'order': (3, 0, 2), 'seasonal_order': (0, 1, 1, 52), 'transform': 'log1p'}, 'MAE': 16.50228644727971, 'sMAPE': 11.256874560177387, 'MASE': 0.3973698384645574}\n"
          ]
        }
      ]
    },
    {
      "cell_type": "markdown",
      "source": [
        "**Guardar pronósticos y métricas**"
      ],
      "metadata": {
        "id": "RAiM0N0U1CXm"
      }
    },
    {
      "cell_type": "code",
      "source": [
        "# === Exportar predicciones ===\n",
        "\n",
        "# Carpeta de salida\n",
        "out_dir = \"/content/drive/MyDrive/Proyecto Integrador TEC 2025/EDA\"\n",
        "os.makedirs(out_dir, exist_ok=True)  # crea la carpeta si no existe\n",
        "\n",
        "# Crear DataFrame de resultados\n",
        "df_preds = pd.DataFrame({\n",
        "    \"Fecha\": y_test.index,\n",
        "    \"y_true\": y_test.values,\n",
        "    \"yhat_ETS\": fc_ets.reindex(y_test.index).values,\n",
        "    })\n",
        "\n",
        "# Guardar CSV en Drive\n",
        "out_path = os.path.join(out_dir, \"predicciones_nacional.csv\")\n",
        "df_preds.to_csv(out_path, index=False)\n",
        "\n",
        "print(f\"[OK] Archivo guardado en: {out_path}\")"
      ],
      "metadata": {
        "id": "KxOyeiKS1HZZ",
        "colab": {
          "base_uri": "https://localhost:8080/"
        },
        "outputId": "e49d8046-53c2-4399-d52c-7ac53d5c6264"
      },
      "execution_count": 25,
      "outputs": [
        {
          "output_type": "stream",
          "name": "stdout",
          "text": [
            "[OK] Archivo guardado en: /content/drive/MyDrive/Proyecto Integrador TEC 2025/EDA/predicciones_nacional.csv\n"
          ]
        }
      ]
    },
    {
      "cell_type": "markdown",
      "source": [
        "# Conclusiones de los análisis"
      ],
      "metadata": {
        "id": "svnFv7V5LxDM"
      }
    },
    {
      "cell_type": "markdown",
      "source": [
        "#  Comparación de Modelos ETS (Semanal vs Mensual)\n",
        "\n",
        "Se evaluaron modelos **ETS (Error–Trend–Seasonal)** con diferentes configuraciones de **tendencia**, **amortiguamiento** y **estacionalidad**, para dos frecuencias temporales: **semanal** y **mensual**.\n",
        "\n",
        "---\n",
        "\n",
        "##  Modelo Semanal\n",
        "\n",
        "**Tipo:** ETS (Holt–Winters)  \n",
        "**Parámetros comunes:** `trend='add'`, `damped_trend=True`  \n",
        "**Estacionalidad evaluada:** Sin estacionalidad vs Aditiva (`m=52`)\n",
        "\n",
        "| Configuración | seasonal | seasonal_periods | MAE | sMAPE (%) | MASE |\n",
        "|---------------|-----------|------------------|-----|-----------|------|\n",
        "| Sin estacionalidad | None | — | 22.82 | 16.25 | 0.549 |\n",
        "| **Con estacionalidad aditiva ** | **'add'** | **52** | **18.87** | **12.79** | **0.454** |\n",
        "\n",
        "**Conclusión:**  \n",
        "El modelo **semanal con estacionalidad aditiva (m=52)** logra el mejor desempeño:\n",
        "- Disminuye el error relativo (**sMAPE −21 %**) y mejora la eficiencia (**MASE −17 %**) frente al modelo sin estacionalidad.  \n",
        "- Captura correctamente el patrón anual semanal.\n",
        "\n",
        "**Configuración recomendada:**\n",
        "```python\n",
        "trend='add', damped_trend=True, seasonal='add', seasonal_periods=52"
      ],
      "metadata": {
        "id": "dLvN19X5MAU9"
      }
    },
    {
      "cell_type": "markdown",
      "source": [
        "##  Modelo Mensual – ETS (Holt–Winters)\n",
        "\n",
        "Se evaluaron configuraciones del modelo **ETS (Error–Trend–Seasonal)** para la serie **mensual** de nuevos casos, variando la presencia o ausencia de estacionalidad.\n",
        "\n",
        "**Parámetros comunes:**  \n",
        "`trend='add'`, `damped_trend=True`, `seasonal_periods=12`\n",
        "\n",
        "---\n",
        "\n",
        "### 🔧 Configuraciones evaluadas\n",
        "\n",
        "| Configuración | seasonal | seasonal_periods | MAE | sMAPE (%) | MASE |\n",
        "|---------------|-----------|------------------|-----|-----------|------|\n",
        "| **Sin estacionalidad ** | **None** | — | **114.48** | **17.48** | **0.651** |\n",
        "| Con estacionalidad aditiva | 'add' | 12 | 137.34 | 20.42 | 0.781 |\n",
        "\n",
        "---\n",
        "\n",
        "###  Análisis de resultados\n",
        "\n",
        "- El modelo **sin estacionalidad** obtiene los **menores errores relativos**:  \n",
        "  - **sMAPE = 17.48 %** → error medio moderado en proporción al valor real.  \n",
        "  - **MASE = 0.651** → el modelo es **más eficiente** que un modelo ingenuo (MASE < 1).  \n",
        "- La **estacionalidad aditiva** (m = 12) **empeora el rendimiento**, indicando que el patrón mensual no es lo suficientemente estable o fuerte.  \n",
        "\n",
        "---\n",
        "\n",
        "###  Configuración recomendada\n",
        "```python\n",
        "trend='add', damped_trend=True, seasonal=None, seasonal_periods=12\n"
      ],
      "metadata": {
        "id": "X5qpPKbBMI7P"
      }
    },
    {
      "cell_type": "markdown",
      "source": [
        "#  Comparación de Modelos SARIMA (Semanal vs Mensual)\n",
        "\n",
        "Se evaluaron modelos **SARIMA** variando órdenes **(p,d,q)** y **(P,D,Q,S)** para dos frecuencias temporales: **semanal** y **mensual**.  \n",
        "Las métricas de comparación son **MAE** (no comparable entre frecuencias), **sMAPE (%)** y **MASE** (comparable al normalizar contra un naïve estacional).\n",
        "\n",
        "---\n",
        "\n",
        "##  Modelo Semanal — SARIMA\n",
        "\n",
        "**Parámetros/ideas base:**  \n",
        "- Diferenciación regular: `d = 0` (ETS rindió bien sin diferenciar).  \n",
        "- Estacional: `D = 1`, `S = 52` (patrón anual semanal).  \n",
        "- Órdenes cortos en p/q y un **MA estacional** suelen ser efectivos.\n",
        "\n",
        "| Configuración | order (p,d,q) | seasonal_order (P,D,Q,S) | MAE | sMAPE (%) | MASE |\n",
        "|---|---|---|---:|---:|---:|\n",
        "| Base | (1,0,1) | (0,1,1,52) | 17.75 | 11.97 | 0.427 |\n",
        "| **Ajustado (mejor)**  | **(2,0,1)** | **(0,1,1,52)** | **17.51** | **11.82** | **0.422** |\n",
        "\n",
        "**Conclusión (semanal):**  \n",
        "El ajuste a **SARIMA(2,0,1)×(0,1,1)\\_52** mejora levemente al base y **supera a ETS** semanal.  \n",
        "- **sMAPE ↓** (11.97 → **11.82**), **MASE ↓** (0.427 → **0.422**).  \n",
        "- Mantener `D=1, S=52`, con orden corto y **MA estacional**.\n",
        "\n",
        "**Configuración recomendada (semanal):**\n",
        "```python\n",
        "order=(2,0,1), seasonal_order=(0,1,1,52)"
      ],
      "metadata": {
        "id": "umYFAlXTRtaS"
      }
    },
    {
      "cell_type": "markdown",
      "source": [
        "#  Conclusión de Modelo ARIMA + Fourier (Semanal)\n",
        "\n",
        "Se evaluó **ARIMA con términos de Fourier** para capturar la estacionalidad **semanal** (m=52), ajustando órdenes **(p,d,q)** y el número de armónicos **K**.\n",
        "\n",
        "---\n",
        "\n",
        "##  Modelo Semanal — ARIMA + Fourier\n",
        "\n",
        "**Tipo:** ARIMA con estacionalidad determinística vía Fourier  \n",
        "**Parámetros base:** `m=52` (semanal)  \n",
        "**Hiperparámetros evaluados:** `(p,d,q)` en { (1,0,1), (2,0,1), (1,0,2) } y `K ∈ {1, 2}`\n",
        "\n",
        "| Configuración | K | m | MAE | sMAPE (%) | MASE |\n",
        "|---|---:|---:|---:|---:|---:|\n",
        "| **order=(2,0,1)** | **2** | **52** | **17.68** | **12.42** | **0.426** |\n",
        "| order=(1,0,2) | 2 | 52 | 18.58 | 13.09 | 0.447 |\n",
        "| order=(1,0,1) | 1 | 52 | 23.70 | 16.99 | 0.571 |\n",
        "| order=(2,0,1) | 1 | 52 | 20.64 | 14.62 | 0.497 |\n",
        "\n",
        "---\n",
        "\n",
        "###  Conclusión\n",
        "La mejor configuración **ARIMA + Fourier** semanal es:\n",
        "- **order=(2,0,1), K=2, m=52**  \n",
        "- Obtiene **sMAPE = 12.42%** y **MASE = 0.426**, superando a otras variantes con K=1 o con órdenes más simples.\n",
        "\n",
        "> Nota: Aunque este AF es muy competitivo, aún queda **ligeramente por detrás** del **SARIMA semanal** óptimo que probaste (sMAPE ≈ 11.82%, MASE ≈ 0.422).\n",
        "\n",
        "---\n",
        "\n",
        "###  Configuración recomendada\n",
        "```python\n",
        "res_af, fc_af = run_model(\"ARIMA_FOURIER\", order=(2,0,1), K=2, m=52)\n"
      ],
      "metadata": {
        "id": "ogaR4A0RW-n6"
      }
    },
    {
      "cell_type": "markdown",
      "source": [
        "#  Resumen de UCM (Semanal vs Mensual)\n",
        "\n",
        "Se evaluaron **UCM (Unobserved Components Models)** variando el componente de **nivel** y la **estacionalidad** para series **semanales** y **mensuales**. Métricas clave: **MAE** (no comparable entre frecuencias), **sMAPE (%)** y **MASE**.\n",
        "\n",
        "---\n",
        "\n",
        "##  UCM Semanal\n",
        "\n",
        "**Parámetros probados:**  \n",
        "- `level ∈ {'local level', 'local linear trend'}`  \n",
        "- `seasonal = 52` (estacionalidad anual semanal)\n",
        "\n",
        "| level               | seasonal | MAE   | sMAPE (%) | MASE  |\n",
        "|---------------------|----------|------:|----------:|------:|\n",
        "| **local level**   | **52**   | **17.88** | **12.16** | **0.430** |\n",
        "| local linear trend  | 52       | 19.61 | 13.20 | 0.472 |\n",
        "\n",
        "**Conclusión (semanal):**  \n",
        "La versión **simple** (`local level`) con estacionalidad `52` es la mejor dentro de UCM.  \n",
        "Aunque es **decente** (MASE < 1), queda **ligeramente por detrás** del SARIMA semanal óptimo (≈ 11.82% sMAPE, 0.422 MASE).\n",
        "\n",
        "**Configuración recomendada (semanal):**\n",
        "```python\n",
        "res_ucm, fc_ucm = run_model(\"UCM\", level=\"local level\", seasonal=52)\n"
      ],
      "metadata": {
        "id": "yxW9Ew1BZrcN"
      }
    },
    {
      "cell_type": "markdown",
      "source": [
        "#  Conclusión de STL + ARIMA (Semanal vs Mensual)\n",
        "\n",
        "Se evaluó el modelo **STL + ARIMA**, que combina la descomposición estacional-trend mediante *Seasonal-Trend decomposition using Loess (STL)* y un modelo **ARIMA** sobre el residuo desestacionalizado.  \n",
        "El objetivo fue analizar su desempeño tanto en frecuencia **semanal (m=52)** como **mensual (m=12)**.\n",
        "\n",
        "---\n",
        "\n",
        "##  STL + ARIMA Semanal\n",
        "\n",
        "**Configuraciones evaluadas:**  \n",
        "- `(period=52, order=(1,0,1))`  \n",
        "- `(period=52, order=(1,1,1))`\n",
        "\n",
        "| period | order | MAE  | sMAPE (%) | MASE  |\n",
        "|---------|---------|------:|----------:|------:|\n",
        "| **52** | **(1,0,1)**  | **28.62** | **18.02** | **0.689** |\n",
        "| 52 | (1,1,1) | 30.18 | 18.80 | 0.727 |\n",
        "\n",
        "**Conclusión (semanal):**  \n",
        "El mejor resultado se obtuvo con `order=(1,0,1)` y `period=52`.  \n",
        "Sin embargo, **su desempeño es inferior** al resto de los modelos evaluados:  \n",
        "- SARIMA (2,0,1)×(0,1,1,52) → **sMAPE ≈ 11.82%, MASE ≈ 0.422**  \n",
        "- UCM (local level, seasonal=52) → **sMAPE ≈ 12.16%, MASE ≈ 0.430**\n",
        "\n",
        "**Configuración recomendada (referencial):**\n",
        "```python\n",
        "res_stl, fc_stl = run_model(\"STL_ARIMA\", period=52, order=(1,0,1))\n"
      ],
      "metadata": {
        "id": "uQRmuaLGfawt"
      }
    },
    {
      "cell_type": "markdown",
      "source": [
        "# Resumen — Búsqueda local SARIMA con shocks (exógenas)\n",
        "\n",
        "**Objetivo:**  \n",
        "Optimizar un modelo **SARIMA** semanal (S=52) incorporando **shocks exógenos** (dummies) y probando dos transformaciones (`log`, `log1p`).  \n",
        "\n",
        "**Métricas de evaluación:**  \n",
        "- MAE (Error Absoluto Medio)  \n",
        "- sMAPE (Error Porcentual Absoluto Simétrico)  \n",
        "- MASE (Error Escalado Absoluto Medio)  \n",
        "\n",
        "**Alcance:**  \n",
        "Se evaluaron **108 combinaciones válidas** de hiperparámetros sin errores de ejecución.\n",
        "\n",
        "---\n",
        "\n",
        "## Top-10 combinaciones (ordenadas por sMAPE)\n",
        "\n",
        "| # | order | seasonal_order | transform | MAE | sMAPE | MASE |\n",
        "|---:|:----:|:--------------:|:---------:|----:|------:|-----:|\n",
        "| 1 | (3,0,2) | (0,1,1,52) | log1p | **16.5023** | **11.2569%** | **0.3974** |\n",
        "| 2 | (3,0,0) | (1,1,2,52) | log | 16.4570 | 11.3263% | 0.3963 |\n",
        "| 3 | (3,0,0) | (0,1,1,52) | log1p | 16.5685 | 11.3321% | 0.3990 |\n",
        "| 4 | (3,0,0) | (1,1,2,52) | log1p | 16.4966 | 11.3519% | 0.3972 |\n",
        "| 5 | (3,0,0) | (0,1,1,52) | log | 16.6000 | 11.3534% | 0.3997 |\n",
        "| 6 | (2,0,2) | (1,1,2,52) | log | 16.6204 | 11.3752% | 0.4002 |\n",
        "| 7 | (2,0,2) | (0,1,1,52) | log | 16.7513 | 11.3966% | 0.4034 |\n",
        "| 8 | (2,0,2) | (0,1,1,52) | log1p | 16.7637 | 11.4021% | 0.4037 |\n",
        "| 9 | (3,0,2) | (0,1,1,52) | log | 16.7487 | 11.4102% | 0.4033 |\n",
        "| 10 | (2,0,2) | (1,1,2,52) | log1p | 16.6788 | 11.4310% | 0.4016 |\n",
        "\n",
        "---\n",
        "\n",
        "##  Mejor configuración seleccionada\n",
        "\n",
        "- **Modelo:** SARIMA con shocks (dummies exógenas)  \n",
        "- **Parámetros:**  \n",
        "  `order = (3,0,2)`  \n",
        "  `seasonal_order = (0,1,1,52)`  \n",
        "  `transform = \"log1p\"`  \n",
        "- **Resultados:**  \n",
        "  - **MAE = 16.5023**  \n",
        "  - **sMAPE = 11.2569%**  \n",
        "  - **MASE = 0.3974**"
      ],
      "metadata": {
        "id": "_0MnxdXYTXjC"
      }
    }
  ]
}